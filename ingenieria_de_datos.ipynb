{
 "cells": [
  {
   "attachments": {},
   "cell_type": "markdown",
   "metadata": {},
   "source": [
    "# **PROYECTO FINAL CIENCIA DE DATOS CON PYTHON**\n",
    "\n",
    "UNIVERSIDAD GALILEO </br>\n",
    "INSTITUTO DE INVESTIGACIÓN DE OPERACIONES </br>\n",
    "CIENCIA DE DATOS EN PYTHON </br>\n",
    "\n",
    "<br>\n",
    "Integrantes:\n",
    "\n",
    "- Karina Díaz\n",
    "- Antonio Guoron\n",
    "- Erick Fuentes\n",
    "\n"
   ]
  },
  {
   "attachments": {},
   "cell_type": "markdown",
   "metadata": {},
   "source": [
    "La grabación del video del proyecto está en el siguiente link [Video Presentacion](https://drive.google.com/file/d/1q7fd8S1b_dxwqnRPvCi_UlKkY2YJmPMt/view?usp=sharing)."
   ]
  },
  {
   "attachments": {},
   "cell_type": "markdown",
   "metadata": {},
   "source": [
    "## **SCOPE**\n",
    "\n"
   ]
  },
  {
   "attachments": {},
   "cell_type": "markdown",
   "metadata": {},
   "source": [
    "El propósito de este proyecto fue desarrollar una base de datos para cumplir los requerimientos de almacenamiento y análisis de datos de las órdenes de un supermercado a través de consultas de información, utilizando Python. \n",
    "\n",
    "Para ello, se realizó un análisis de la información brindada por el supermercado, que cuenta con varias tiendas desplegadas en varios estados. Cada tienda tiene varios departamentos tales como: abarrotes, comida congelada, lácteos, carnes, verduras y vegetales, panadería, floristería y productos de salud/belleza y también cada tienda tiene muchos productos individuales que se llaman SKUs en cada uno de sus anaqueles.\n",
    "\n",
    "Los datos que se utilizan para el supermercado se recolectan por cajas registradoras cuando los clientes realizan cada una de sus compras con un sistema POS donde se lleva el control de cada producto que estos clientes compran, la gerencia también se preocupa por la logística de ordenar, colocar y vender productos mientras se maximiza la ganancias, por lo cual se toman varias decisiones para ver que tipos de estrategias de ventas utilizar para llamar la atención de los clientes.\n",
    "\n",
    "Para realizar el análisis de datos, se elaboró un script de Python, a través de:\n",
    "- Creación de instancia MySQL y script para la creación de tablas\n",
    "- Lectura de archivos csv desde buckets de AWS\n",
    "- Generación de dataframes para tablas de dimensiones\n",
    "- Carga de datos de las tablas de dimensiones al datawarehouse\n",
    "- Carga de datos a la tabla de hechos\n",
    "- Realización de consultas de información de acuerdo a las preguntas del negocio\n"
   ]
  },
  {
   "attachments": {},
   "cell_type": "markdown",
   "metadata": {},
   "source": [
    "## **EXPLORACION**"
   ]
  },
  {
   "attachments": {},
   "cell_type": "markdown",
   "metadata": {},
   "source": [
    "Para la exploracion de datos se realizaron los siguiente pasos: \n",
    "\n",
    "**SECCION 1 - AMBIENTE: CREACION DE INSTANCIA MYSQL Y SCRIPT PARA CREACION DE TABLAS**\n",
    "<br>\n",
    "Carga de archivos de configuración\n",
    "Creación de instancia de AWS\n",
    "Validación de instancias\n",
    "Definición de nombre de la instancia\n",
    "Creación de servicio\n",
    "Obtención de la URL del host\n",
    "Conección a la base de datos y creación de tablas en el modelo estrella\n",
    "\n",
    "**SECCION 2 - LECTURA DE ARCHIVOS CSV DESDE S3**\n",
    "<br>\n",
    "Carga de 4 archivos .csv como buckets de AWS\n",
    "Agrupación de los 4 archivos en un solo dataframe\n",
    "Carga derdatos para poblar la inforamción de fechas\n",
    "\n",
    "**SECCION 3 - GENERAR DATAFRAMES PARA TABLAS DE DIMENSIONES (DIM TABLES)**\n",
    "<br>\n",
    "Definición de dimensión clientes (CUSTOMER_DIM)\n",
    "Definición de dimensión ubicación (LOCATION_DIM)\n",
    "Definición de dimensión Producto (PRODUCT_DIM)\n",
    "Definición de dimensión Región (REGION_DIM)\n",
    "Definición de método de envío (SHIPMODE_DIM)\n",
    "Definición de dimensión fecha (DATE_DIM)\n",
    "\n",
    "**SECCION 4 - CARGA DE DATOS DIM TABLES A DW**\n",
    "<br>\n",
    "Carga de datos de las tablas de dimensiones (DIM TABLES)\n",
    "\n",
    "**SECCION 5 - CARGA DE DATOS A FACT TABLE**\n",
    "<br>\n",
    "Extracción de las dimensiones\n",
    "Limpieza y unión de datos (limpieza y merge)\n",
    "Inserción de datos\n"
   ]
  },
  {
   "attachments": {},
   "cell_type": "markdown",
   "metadata": {},
   "source": [
    "## **MODELO DE DATOS**"
   ]
  },
  {
   "attachments": {},
   "cell_type": "markdown",
   "metadata": {},
   "source": [
    "Para construir el DataWarehouse se utilizó el modelo en estrella, y el diagrama se presenta a continuación:\n",
    "\n",
    "<img src=\"modelorelacional.png\">"
   ]
  },
  {
   "attachments": {},
   "cell_type": "markdown",
   "metadata": {},
   "source": [
    "## **PROCESAMIENTO**"
   ]
  },
  {
   "attachments": {},
   "cell_type": "markdown",
   "metadata": {},
   "source": [
    "#### LOS DATOS FUERON TOMADOS DE ARCHIVOS CSV QUE ESTAN EN UN BUCKET DE S3 AWS. ESTOS ARCHIVOS CONTIENEN LA INFORMACION DE VENTAS DE UNA TIENDA."
   ]
  },
  {
   "attachments": {},
   "cell_type": "markdown",
   "metadata": {},
   "source": [
    "## SECCION 1 - AMBIENTE: CREACION DE INSTANCIA MYSQL Y SCRIPT PARA CREACION DE TABLAS"
   ]
  },
  {
   "cell_type": "code",
   "execution_count": 1,
   "metadata": {},
   "outputs": [],
   "source": [
    "import pandas as pd\n",
    "import numpy as np\n",
    "from faker import Faker\n",
    "import random\n",
    "import datetime\n",
    "import boto3\n",
    "import psycopg2\n",
    "import configparser\n",
    "from io import StringIO"
   ]
  },
  {
   "attachments": {},
   "cell_type": "markdown",
   "metadata": {},
   "source": [
    "### CARGAMOS ARCHIVOS DE CONFIGURACIÓN"
   ]
  },
  {
   "cell_type": "code",
   "execution_count": 2,
   "metadata": {},
   "outputs": [
    {
     "data": {
      "text/plain": [
       "['configuracion.cfg']"
      ]
     },
     "execution_count": 2,
     "metadata": {},
     "output_type": "execute_result"
    }
   ],
   "source": [
    "config = configparser.ConfigParser()\n",
    "config.read('configuracion.cfg')"
   ]
  },
  {
   "attachments": {},
   "cell_type": "markdown",
   "metadata": {},
   "source": [
    "### CREAMOS INSTANCIA DE AWS"
   ]
  },
  {
   "cell_type": "code",
   "execution_count": 3,
   "metadata": {},
   "outputs": [
    {
     "name": "stdout",
     "output_type": "stream",
     "text": [
      "<botocore.client.RDS object at 0x00000191CBE82B50>\n"
     ]
    }
   ],
   "source": [
    "aws_conn = boto3.client('rds', aws_access_key_id=config.get('IAM', 'ACCESS_KEY'),\n",
    "                    aws_secret_access_key=config.get('IAM', 'SECRET_ACCESS_KEY'),\n",
    "                    region_name='us-east-1')\n",
    "print(aws_conn)"
   ]
  },
  {
   "attachments": {},
   "cell_type": "markdown",
   "metadata": {},
   "source": [
    "### VALIDAMOS INSTANCIAS"
   ]
  },
  {
   "cell_type": "code",
   "execution_count": 4,
   "metadata": {},
   "outputs": [
    {
     "name": "stdout",
     "output_type": "stream",
     "text": [
      "DBInstanceIds []\n"
     ]
    }
   ],
   "source": [
    "rdsInstanceIds = []\n",
    "\n",
    "response = aws_conn.describe_db_instances()\n",
    "for resp in response['DBInstances']:\n",
    "    rdsInstanceIds.append(resp['DBInstanceIdentifier'])\n",
    "    db_instance_status = resp['DBInstanceStatus']\n",
    "\n",
    "print(f\"DBInstanceIds {rdsInstanceIds}\")"
   ]
  },
  {
   "attachments": {},
   "cell_type": "markdown",
   "metadata": {},
   "source": [
    "### NOMBRE DE LA INSTANCIA"
   ]
  },
  {
   "cell_type": "code",
   "execution_count": 5,
   "metadata": {},
   "outputs": [],
   "source": [
    "rdsIdentifier = 'proyecto'"
   ]
  },
  {
   "attachments": {},
   "cell_type": "markdown",
   "metadata": {},
   "source": [
    "### CREAMOS SERVICIO"
   ]
  },
  {
   "cell_type": "code",
   "execution_count": 6,
   "metadata": {},
   "outputs": [
    {
     "name": "stdout",
     "output_type": "stream",
     "text": [
      "{'DBInstance': {'DBInstanceIdentifier': 'proyecto', 'DBInstanceClass': 'db.t3.micro', 'Engine': 'mysql', 'DBInstanceStatus': 'creating', 'MasterUsername': 'root', 'DBName': 'dw_proyecto', 'AllocatedStorage': 10, 'PreferredBackupWindow': '04:15-04:45', 'BackupRetentionPeriod': 1, 'DBSecurityGroups': [], 'VpcSecurityGroups': [{'VpcSecurityGroupId': 'sg-0f844de3bd7b25d9f', 'Status': 'active'}], 'DBParameterGroups': [{'DBParameterGroupName': 'default.mysql8.0', 'ParameterApplyStatus': 'in-sync'}], 'DBSubnetGroup': {'DBSubnetGroupName': 'default', 'DBSubnetGroupDescription': 'default', 'VpcId': 'vpc-01a3d918cb4f27d41', 'SubnetGroupStatus': 'Complete', 'Subnets': [{'SubnetIdentifier': 'subnet-0d63e3de577a32fee', 'SubnetAvailabilityZone': {'Name': 'us-east-1a'}, 'SubnetOutpost': {}, 'SubnetStatus': 'Active'}, {'SubnetIdentifier': 'subnet-06367c1c3ee76ec4b', 'SubnetAvailabilityZone': {'Name': 'us-east-1e'}, 'SubnetOutpost': {}, 'SubnetStatus': 'Active'}, {'SubnetIdentifier': 'subnet-00543166cf9277864', 'SubnetAvailabilityZone': {'Name': 'us-east-1c'}, 'SubnetOutpost': {}, 'SubnetStatus': 'Active'}, {'SubnetIdentifier': 'subnet-00a03e24547492766', 'SubnetAvailabilityZone': {'Name': 'us-east-1b'}, 'SubnetOutpost': {}, 'SubnetStatus': 'Active'}, {'SubnetIdentifier': 'subnet-0479da2491b7b4122', 'SubnetAvailabilityZone': {'Name': 'us-east-1f'}, 'SubnetOutpost': {}, 'SubnetStatus': 'Active'}, {'SubnetIdentifier': 'subnet-04b0ab7d1944660af', 'SubnetAvailabilityZone': {'Name': 'us-east-1d'}, 'SubnetOutpost': {}, 'SubnetStatus': 'Active'}]}, 'PreferredMaintenanceWindow': 'sat:09:31-sat:10:01', 'PendingModifiedValues': {'MasterUserPassword': '****'}, 'MultiAZ': False, 'EngineVersion': '8.0.32', 'AutoMinorVersionUpgrade': True, 'ReadReplicaDBInstanceIdentifiers': [], 'LicenseModel': 'general-public-license', 'OptionGroupMemberships': [{'OptionGroupName': 'default:mysql-8-0', 'Status': 'in-sync'}], 'PubliclyAccessible': True, 'StorageType': 'gp2', 'DbInstancePort': 0, 'StorageEncrypted': False, 'DbiResourceId': 'db-YMHXMQDJ2D4C63PWWAIXJRGV2E', 'CACertificateIdentifier': 'rds-ca-2019', 'DomainMemberships': [], 'CopyTagsToSnapshot': False, 'MonitoringInterval': 0, 'DBInstanceArn': 'arn:aws:rds:us-east-1:303455564387:db:proyecto', 'IAMDatabaseAuthenticationEnabled': False, 'PerformanceInsightsEnabled': False, 'DeletionProtection': False, 'AssociatedRoles': [], 'TagList': [], 'CustomerOwnedIpEnabled': False, 'BackupTarget': 'region', 'NetworkType': 'IPV4'}, 'ResponseMetadata': {'RequestId': 'bd4cbfb7-beac-4e45-ba89-55582b303894', 'HTTPStatusCode': 200, 'HTTPHeaders': {'x-amzn-requestid': 'bd4cbfb7-beac-4e45-ba89-55582b303894', 'strict-transport-security': 'max-age=31536000', 'content-type': 'text/xml', 'content-length': '5202', 'date': 'Thu, 06 Apr 2023 22:47:30 GMT'}, 'RetryAttempts': 0}}\n"
     ]
    }
   ],
   "source": [
    "try:\n",
    "    response = aws_conn.create_db_instance(\n",
    "            AllocatedStorage=10,\n",
    "            DBName=config.get('RDS_MYSQL', 'DB_NAME'),\n",
    "            DBInstanceIdentifier=rdsIdentifier,\n",
    "            DBInstanceClass=\"db.t3.micro\",\n",
    "            Engine=\"mysql\",\n",
    "            MasterUsername=config.get('RDS_MYSQL', 'DB_USER'),\n",
    "            MasterUserPassword=config.get('RDS_MYSQL', 'DB_PASSWORD'),\n",
    "            Port=int(config.get('RDS_MYSQL', 'DB_PORT')),\n",
    "            VpcSecurityGroupIds=[config.get('VPC', 'SECURITY_GROUP')],\n",
    "            PubliclyAccessible=True\n",
    "        )\n",
    "    print(response)\n",
    "except aws_conn.exceptions.DBInstanceAlreadyExistsFault as ex:\n",
    "    print(\"La Instancia de Base de Datos ya Existe.\")"
   ]
  },
  {
   "attachments": {},
   "cell_type": "markdown",
   "metadata": {},
   "source": [
    "### OBTENEMOS URL DEL HOST"
   ]
  },
  {
   "cell_type": "code",
   "execution_count": 7,
   "metadata": {},
   "outputs": [
    {
     "name": "stdout",
     "output_type": "stream",
     "text": [
      "proyecto.ciuvpzinrrre.us-east-1.rds.amazonaws.com\n"
     ]
    }
   ],
   "source": [
    "try:\n",
    "     instances = aws_conn.describe_db_instances(DBInstanceIdentifier=rdsIdentifier)\n",
    "     RDS_DW_HOST = instances.get('DBInstances')[0].get('Endpoint').get('Address')\n",
    "     print(RDS_DW_HOST)\n",
    "except Exception as ex:\n",
    "     print(\"La instancia de base de datos no existe o aun no se ha terminado de crear.\")\n",
    "     print(ex)"
   ]
  },
  {
   "attachments": {},
   "cell_type": "markdown",
   "metadata": {},
   "source": [
    "### NOS CONECTAMOS A LA BD Y CREAMOS LAS TABLAS EN EL MODELO ESTRELLA"
   ]
  },
  {
   "cell_type": "code",
   "execution_count": 8,
   "metadata": {},
   "outputs": [
    {
     "name": "stdout",
     "output_type": "stream",
     "text": [
      "Data Warehouse Creado Exitosamente\n"
     ]
    }
   ],
   "source": [
    "import create_dw_query\n",
    "import mysql.connector as mysqlC\n",
    "\n",
    "try:\n",
    "    myDw = mysqlC.connect(\n",
    "    host=RDS_DW_HOST, \n",
    "    user=config.get('RDS_MYSQL', 'DB_USER'),\n",
    "    password=config.get('RDS_MYSQL', 'DB_PASSWORD'),\n",
    "    database=config.get('RDS_MYSQL', 'DB_NAME')\n",
    "    )\n",
    "\n",
    "    mycursor = myDw.cursor()\n",
    "    mycursor.execute(create_dw_query.CREATE_DW)\n",
    "    mycursor.fetchall()\n",
    "    print(\"Data Warehouse Creado Exitosamente\")\n",
    "except Exception as ex:\n",
    "    print(\"ERROR: Error al crear la base de datos.\")\n",
    "    print(ex)"
   ]
  },
  {
   "attachments": {},
   "cell_type": "markdown",
   "metadata": {},
   "source": [
    "## SECCION 2 - LECTURA DE ARCHIVOS CSV DESDE S3"
   ]
  },
  {
   "cell_type": "code",
   "execution_count": 9,
   "metadata": {},
   "outputs": [
    {
     "name": "stdout",
     "output_type": "stream",
     "text": [
      "bucket-proyecto-2023\n"
     ]
    },
    {
     "data": {
      "text/plain": [
       "['Orders_Central.csv',\n",
       " 'Orders_East.csv',\n",
       " 'Orders_South.csv',\n",
       " 'Orders_West.csv',\n",
       " 'date_dim.csv']"
      ]
     },
     "execution_count": 9,
     "metadata": {},
     "output_type": "execute_result"
    }
   ],
   "source": [
    "s3 = boto3.resource(\n",
    "    service_name = 's3',\n",
    "    region_name = 'us-east-1',\n",
    "    aws_access_key_id = config.get('IAM', 'ACCESS_KEY'),\n",
    "    aws_secret_access_key = config.get('IAM', 'SECRET_ACCESS_KEY')\n",
    ")\n",
    "\n",
    "for bucket in s3.buckets.all():\n",
    "    S3_BUCKET_NAME = bucket.name\n",
    "    print(bucket.name)\n",
    "\n",
    "remoteFileList = []\n",
    "for objt in s3.Bucket(S3_BUCKET_NAME).objects.all():\n",
    "    remoteFileList.append(objt.key)\n",
    "\n",
    "remoteFileList"
   ]
  },
  {
   "cell_type": "code",
   "execution_count": 10,
   "metadata": {},
   "outputs": [],
   "source": [
    "s3 = boto3.client(\n",
    "    service_name = 's3',\n",
    "    region_name = 'us-east-1',\n",
    "    aws_access_key_id = config.get('IAM', 'ACCESS_KEY'),\n",
    "    aws_secret_access_key = config.get('IAM', 'SECRET_ACCESS_KEY')\n",
    ")\n",
    "\n",
    "## CARGAMOS LOS ARCHIVOS CSV CON LOS DATOS DE LAS VENTAS\n",
    "## SON 4 ARCHIVOS, UNO POR CADA REGION\n",
    "\n",
    "object_key = 'Orders_Central.csv'\n",
    "csv_obj = s3.get_object(Bucket=S3_BUCKET_NAME, Key=object_key)\n",
    "body = csv_obj['Body']\n",
    "csv_string = body.read().decode('utf-8')\n",
    "df_orders_central = pd.read_csv(StringIO(csv_string))\n",
    "\n",
    "object_key = 'Orders_East.csv'\n",
    "csv_obj = s3.get_object(Bucket=S3_BUCKET_NAME, Key=object_key)\n",
    "body = csv_obj['Body']\n",
    "csv_string = body.read().decode('utf-8')\n",
    "df_orders_east = pd.read_csv(StringIO(csv_string))\n",
    "\n",
    "object_key = 'Orders_South.csv'\n",
    "csv_obj = s3.get_object(Bucket=S3_BUCKET_NAME, Key=object_key)\n",
    "body = csv_obj['Body']\n",
    "csv_string = body.read().decode('utf-8')\n",
    "df_orders_south = pd.read_csv(StringIO(csv_string))\n",
    "\n",
    "object_key = 'Orders_West.csv'\n",
    "csv_obj = s3.get_object(Bucket=S3_BUCKET_NAME, Key=object_key)\n",
    "body = csv_obj['Body']\n",
    "csv_string = body.read().decode('utf-8')\n",
    "df_orders_west = pd.read_csv(StringIO(csv_string))\n",
    "\n",
    "## AGRUPAMOS LOS 4 ARCHIVOS EN UN SOLO DATAFRAME\n",
    "df_orders_all = pd.concat([df_orders_central, df_orders_east, df_orders_south, df_orders_west])"
   ]
  },
  {
   "cell_type": "code",
   "execution_count": 11,
   "metadata": {},
   "outputs": [],
   "source": [
    "## CARGAMOS LOS DATOS PARA POBLAR LA DIMENSION DE FECHAS\n",
    "\n",
    "object_key = 'date_dim.csv'\n",
    "csv_obj = s3.get_object(Bucket=S3_BUCKET_NAME, Key=object_key)\n",
    "body = csv_obj['Body']\n",
    "csv_string = body.read().decode('utf-8')\n",
    "\n",
    "df_dates = pd.read_csv(StringIO(csv_string))"
   ]
  },
  {
   "attachments": {},
   "cell_type": "markdown",
   "metadata": {},
   "source": [
    "## SECCION 3 - GENERAR DATAFRAMES PARA DIM TABLES"
   ]
  },
  {
   "attachments": {},
   "cell_type": "markdown",
   "metadata": {},
   "source": [
    "### DIMENSION CLIENTES"
   ]
  },
  {
   "cell_type": "code",
   "execution_count": 12,
   "metadata": {},
   "outputs": [
    {
     "data": {
      "text/html": [
       "<div>\n",
       "<style scoped>\n",
       "    .dataframe tbody tr th:only-of-type {\n",
       "        vertical-align: middle;\n",
       "    }\n",
       "\n",
       "    .dataframe tbody tr th {\n",
       "        vertical-align: top;\n",
       "    }\n",
       "\n",
       "    .dataframe thead th {\n",
       "        text-align: right;\n",
       "    }\n",
       "</style>\n",
       "<table border=\"1\" class=\"dataframe\">\n",
       "  <thead>\n",
       "    <tr style=\"text-align: right;\">\n",
       "      <th></th>\n",
       "      <th>CUSTOMER_ID</th>\n",
       "      <th>CUSTOMER_NAME</th>\n",
       "      <th>SEGMENT</th>\n",
       "    </tr>\n",
       "  </thead>\n",
       "  <tbody>\n",
       "    <tr>\n",
       "      <th>0</th>\n",
       "      <td>HP-14815</td>\n",
       "      <td>Harold Pawlan</td>\n",
       "      <td>Home Office</td>\n",
       "    </tr>\n",
       "    <tr>\n",
       "      <th>2</th>\n",
       "      <td>PK-19075</td>\n",
       "      <td>Pete Kriz</td>\n",
       "      <td>Consumer</td>\n",
       "    </tr>\n",
       "    <tr>\n",
       "      <th>3</th>\n",
       "      <td>KB-16585</td>\n",
       "      <td>Ken Black</td>\n",
       "      <td>Corporate</td>\n",
       "    </tr>\n",
       "    <tr>\n",
       "      <th>5</th>\n",
       "      <td>MA-17560</td>\n",
       "      <td>Matt Abelman</td>\n",
       "      <td>Home Office</td>\n",
       "    </tr>\n",
       "    <tr>\n",
       "      <th>6</th>\n",
       "      <td>GH-14485</td>\n",
       "      <td>Gene Hale</td>\n",
       "      <td>Corporate</td>\n",
       "    </tr>\n",
       "  </tbody>\n",
       "</table>\n",
       "</div>"
      ],
      "text/plain": [
       "  CUSTOMER_ID  CUSTOMER_NAME      SEGMENT\n",
       "0    HP-14815  Harold Pawlan  Home Office\n",
       "2    PK-19075      Pete Kriz     Consumer\n",
       "3    KB-16585      Ken Black    Corporate\n",
       "5    MA-17560   Matt Abelman  Home Office\n",
       "6    GH-14485      Gene Hale    Corporate"
      ]
     },
     "execution_count": 12,
     "metadata": {},
     "output_type": "execute_result"
    }
   ],
   "source": [
    "df_customer_dim = df_orders_all[[\"Customer ID\", \"Customer Name\", \"Segment\"]].drop_duplicates()\n",
    "df_customer_dim.columns = [\"CUSTOMER_ID\", \"CUSTOMER_NAME\", \"SEGMENT\"]\n",
    "\n",
    "df_customer_dim.head(5)"
   ]
  },
  {
   "attachments": {},
   "cell_type": "markdown",
   "metadata": {},
   "source": [
    "### DIMENSION LOCATION"
   ]
  },
  {
   "cell_type": "code",
   "execution_count": 13,
   "metadata": {},
   "outputs": [
    {
     "data": {
      "text/html": [
       "<div>\n",
       "<style scoped>\n",
       "    .dataframe tbody tr th:only-of-type {\n",
       "        vertical-align: middle;\n",
       "    }\n",
       "\n",
       "    .dataframe tbody tr th {\n",
       "        vertical-align: top;\n",
       "    }\n",
       "\n",
       "    .dataframe thead th {\n",
       "        text-align: right;\n",
       "    }\n",
       "</style>\n",
       "<table border=\"1\" class=\"dataframe\">\n",
       "  <thead>\n",
       "    <tr style=\"text-align: right;\">\n",
       "      <th></th>\n",
       "      <th>COUNTRY</th>\n",
       "      <th>CITY</th>\n",
       "      <th>STATE</th>\n",
       "      <th>POSTAL_CODE</th>\n",
       "    </tr>\n",
       "  </thead>\n",
       "  <tbody>\n",
       "    <tr>\n",
       "      <th>0</th>\n",
       "      <td>United States</td>\n",
       "      <td>Fort Worth</td>\n",
       "      <td>Texas</td>\n",
       "      <td>76106</td>\n",
       "    </tr>\n",
       "    <tr>\n",
       "      <th>2</th>\n",
       "      <td>United States</td>\n",
       "      <td>Madison</td>\n",
       "      <td>Wisconsin</td>\n",
       "      <td>53711</td>\n",
       "    </tr>\n",
       "    <tr>\n",
       "      <th>3</th>\n",
       "      <td>United States</td>\n",
       "      <td>Fremont</td>\n",
       "      <td>Nebraska</td>\n",
       "      <td>68025</td>\n",
       "    </tr>\n",
       "    <tr>\n",
       "      <th>5</th>\n",
       "      <td>United States</td>\n",
       "      <td>Houston</td>\n",
       "      <td>Texas</td>\n",
       "      <td>77095</td>\n",
       "    </tr>\n",
       "    <tr>\n",
       "      <th>6</th>\n",
       "      <td>United States</td>\n",
       "      <td>Richardson</td>\n",
       "      <td>Texas</td>\n",
       "      <td>75080</td>\n",
       "    </tr>\n",
       "  </tbody>\n",
       "</table>\n",
       "</div>"
      ],
      "text/plain": [
       "         COUNTRY        CITY      STATE  POSTAL_CODE\n",
       "0  United States  Fort Worth      Texas        76106\n",
       "2  United States     Madison  Wisconsin        53711\n",
       "3  United States     Fremont   Nebraska        68025\n",
       "5  United States     Houston      Texas        77095\n",
       "6  United States  Richardson      Texas        75080"
      ]
     },
     "execution_count": 13,
     "metadata": {},
     "output_type": "execute_result"
    }
   ],
   "source": [
    "df_location_dim = df_orders_all[[\"Country\", \"City\", \"State\", \"Postal Code\"]].drop_duplicates()\n",
    "df_location_dim.columns = [\"COUNTRY\", \"CITY\", \"STATE\", \"POSTAL_CODE\"]\n",
    "\n",
    "# LIMPIAMOS LOS DATOS NULL\n",
    "df_location_dim['POSTAL_CODE'] = df_location_dim['POSTAL_CODE'].fillna(-1)\n",
    "df_location_dim['POSTAL_CODE'] = df_location_dim['POSTAL_CODE'].astype(\"Int64\")\n",
    "\n",
    "df_location_dim.head(5)"
   ]
  },
  {
   "attachments": {},
   "cell_type": "markdown",
   "metadata": {},
   "source": [
    "### DIMENSION PRODUCT_DIM"
   ]
  },
  {
   "cell_type": "code",
   "execution_count": 14,
   "metadata": {},
   "outputs": [
    {
     "data": {
      "text/html": [
       "<div>\n",
       "<style scoped>\n",
       "    .dataframe tbody tr th:only-of-type {\n",
       "        vertical-align: middle;\n",
       "    }\n",
       "\n",
       "    .dataframe tbody tr th {\n",
       "        vertical-align: top;\n",
       "    }\n",
       "\n",
       "    .dataframe thead th {\n",
       "        text-align: right;\n",
       "    }\n",
       "</style>\n",
       "<table border=\"1\" class=\"dataframe\">\n",
       "  <thead>\n",
       "    <tr style=\"text-align: right;\">\n",
       "      <th></th>\n",
       "      <th>PRODUCT_ID</th>\n",
       "      <th>CATEGORY</th>\n",
       "      <th>SUB_CATEGORY</th>\n",
       "      <th>PRODUCT_NAME</th>\n",
       "    </tr>\n",
       "  </thead>\n",
       "  <tbody>\n",
       "    <tr>\n",
       "      <th>0</th>\n",
       "      <td>FUR-BO-10000112</td>\n",
       "      <td>Furniture</td>\n",
       "      <td>Bookcases</td>\n",
       "      <td>Bush Birmingham Collection Bookcase, Dark Cherry</td>\n",
       "    </tr>\n",
       "    <tr>\n",
       "      <th>1</th>\n",
       "      <td>FUR-BO-10000330</td>\n",
       "      <td>Furniture</td>\n",
       "      <td>Bookcases</td>\n",
       "      <td>Sauder Camden County Barrister Bookcase, Plank...</td>\n",
       "    </tr>\n",
       "    <tr>\n",
       "      <th>2</th>\n",
       "      <td>FUR-BO-10000362</td>\n",
       "      <td>Furniture</td>\n",
       "      <td>Bookcases</td>\n",
       "      <td>Sauder Inglewood Library Bookcases</td>\n",
       "    </tr>\n",
       "    <tr>\n",
       "      <th>3</th>\n",
       "      <td>FUR-BO-10000468</td>\n",
       "      <td>Furniture</td>\n",
       "      <td>Bookcases</td>\n",
       "      <td>O'Sullivan 2-Shelf Heavy-Duty Bookcases</td>\n",
       "    </tr>\n",
       "    <tr>\n",
       "      <th>4</th>\n",
       "      <td>FUR-BO-10000711</td>\n",
       "      <td>Furniture</td>\n",
       "      <td>Bookcases</td>\n",
       "      <td>Hon Metal Bookcases, Gray</td>\n",
       "    </tr>\n",
       "  </tbody>\n",
       "</table>\n",
       "</div>"
      ],
      "text/plain": [
       "        PRODUCT_ID   CATEGORY SUB_CATEGORY  \\\n",
       "0  FUR-BO-10000112  Furniture    Bookcases   \n",
       "1  FUR-BO-10000330  Furniture    Bookcases   \n",
       "2  FUR-BO-10000362  Furniture    Bookcases   \n",
       "3  FUR-BO-10000468  Furniture    Bookcases   \n",
       "4  FUR-BO-10000711  Furniture    Bookcases   \n",
       "\n",
       "                                        PRODUCT_NAME  \n",
       "0   Bush Birmingham Collection Bookcase, Dark Cherry  \n",
       "1  Sauder Camden County Barrister Bookcase, Plank...  \n",
       "2                 Sauder Inglewood Library Bookcases  \n",
       "3            O'Sullivan 2-Shelf Heavy-Duty Bookcases  \n",
       "4                          Hon Metal Bookcases, Gray  "
      ]
     },
     "execution_count": 14,
     "metadata": {},
     "output_type": "execute_result"
    }
   ],
   "source": [
    "df = df_orders_all.groupby([\"Product ID\", \"Category\", \"Sub-Category\"])['Product Name'].max()\n",
    "\n",
    "df_product_dim = df.reset_index()\n",
    "df_product_dim.columns = [\"PRODUCT_ID\", \"CATEGORY\", \"SUB_CATEGORY\", \"PRODUCT_NAME\"]\n",
    "df_product_dim.head(5)"
   ]
  },
  {
   "attachments": {},
   "cell_type": "markdown",
   "metadata": {},
   "source": [
    "### DIMENSION REGION"
   ]
  },
  {
   "cell_type": "code",
   "execution_count": 15,
   "metadata": {},
   "outputs": [
    {
     "data": {
      "text/html": [
       "<div>\n",
       "<style scoped>\n",
       "    .dataframe tbody tr th:only-of-type {\n",
       "        vertical-align: middle;\n",
       "    }\n",
       "\n",
       "    .dataframe tbody tr th {\n",
       "        vertical-align: top;\n",
       "    }\n",
       "\n",
       "    .dataframe thead th {\n",
       "        text-align: right;\n",
       "    }\n",
       "</style>\n",
       "<table border=\"1\" class=\"dataframe\">\n",
       "  <thead>\n",
       "    <tr style=\"text-align: right;\">\n",
       "      <th></th>\n",
       "      <th>REGION_NAME</th>\n",
       "    </tr>\n",
       "  </thead>\n",
       "  <tbody>\n",
       "    <tr>\n",
       "      <th>0</th>\n",
       "      <td>Central</td>\n",
       "    </tr>\n",
       "    <tr>\n",
       "      <th>0</th>\n",
       "      <td>East</td>\n",
       "    </tr>\n",
       "    <tr>\n",
       "      <th>0</th>\n",
       "      <td>South</td>\n",
       "    </tr>\n",
       "    <tr>\n",
       "      <th>0</th>\n",
       "      <td>West</td>\n",
       "    </tr>\n",
       "  </tbody>\n",
       "</table>\n",
       "</div>"
      ],
      "text/plain": [
       "  REGION_NAME\n",
       "0     Central\n",
       "0        East\n",
       "0       South\n",
       "0        West"
      ]
     },
     "execution_count": 15,
     "metadata": {},
     "output_type": "execute_result"
    }
   ],
   "source": [
    "df_region_dim = df_orders_all[[\"Region\"]].drop_duplicates()\n",
    "df_region_dim.columns = [\"REGION_NAME\"]\n",
    "\n",
    "df_region_dim.head(5)"
   ]
  },
  {
   "attachments": {},
   "cell_type": "markdown",
   "metadata": {},
   "source": [
    "### DIMENSION SHIP_MODE"
   ]
  },
  {
   "cell_type": "code",
   "execution_count": 16,
   "metadata": {},
   "outputs": [
    {
     "data": {
      "text/html": [
       "<div>\n",
       "<style scoped>\n",
       "    .dataframe tbody tr th:only-of-type {\n",
       "        vertical-align: middle;\n",
       "    }\n",
       "\n",
       "    .dataframe tbody tr th {\n",
       "        vertical-align: top;\n",
       "    }\n",
       "\n",
       "    .dataframe thead th {\n",
       "        text-align: right;\n",
       "    }\n",
       "</style>\n",
       "<table border=\"1\" class=\"dataframe\">\n",
       "  <thead>\n",
       "    <tr style=\"text-align: right;\">\n",
       "      <th></th>\n",
       "      <th>SHIPMODE_NAME</th>\n",
       "    </tr>\n",
       "  </thead>\n",
       "  <tbody>\n",
       "    <tr>\n",
       "      <th>0</th>\n",
       "      <td>Standard Class</td>\n",
       "    </tr>\n",
       "    <tr>\n",
       "      <th>5</th>\n",
       "      <td>Second Class</td>\n",
       "    </tr>\n",
       "    <tr>\n",
       "      <th>6</th>\n",
       "      <td>First Class</td>\n",
       "    </tr>\n",
       "    <tr>\n",
       "      <th>164</th>\n",
       "      <td>Same Day</td>\n",
       "    </tr>\n",
       "  </tbody>\n",
       "</table>\n",
       "</div>"
      ],
      "text/plain": [
       "      SHIPMODE_NAME\n",
       "0    Standard Class\n",
       "5      Second Class\n",
       "6       First Class\n",
       "164        Same Day"
      ]
     },
     "execution_count": 16,
     "metadata": {},
     "output_type": "execute_result"
    }
   ],
   "source": [
    "df_shipmode_dim = df_orders_all[[\"Ship Mode\"]].drop_duplicates()\n",
    "df_shipmode_dim.columns = [\"SHIPMODE_NAME\"]\n",
    "\n",
    "df_shipmode_dim.head(5)"
   ]
  },
  {
   "attachments": {},
   "cell_type": "markdown",
   "metadata": {},
   "source": [
    "### DIMENSION DATE_DIM"
   ]
  },
  {
   "cell_type": "code",
   "execution_count": 17,
   "metadata": {},
   "outputs": [
    {
     "data": {
      "text/html": [
       "<div>\n",
       "<style scoped>\n",
       "    .dataframe tbody tr th:only-of-type {\n",
       "        vertical-align: middle;\n",
       "    }\n",
       "\n",
       "    .dataframe tbody tr th {\n",
       "        vertical-align: top;\n",
       "    }\n",
       "\n",
       "    .dataframe thead th {\n",
       "        text-align: right;\n",
       "    }\n",
       "</style>\n",
       "<table border=\"1\" class=\"dataframe\">\n",
       "  <thead>\n",
       "    <tr style=\"text-align: right;\">\n",
       "      <th></th>\n",
       "      <th>DATE_SK</th>\n",
       "      <th>FULL_DATE</th>\n",
       "      <th>DAY_OF_WEEK</th>\n",
       "      <th>DAY_NUM_IN_MONTH</th>\n",
       "      <th>DAY_NUM_OVERALL</th>\n",
       "      <th>DAY_NAME</th>\n",
       "      <th>DAY_ABBREV</th>\n",
       "      <th>WEEKDAY_FLAG</th>\n",
       "      <th>WEEK_NUM_IN_YEAR</th>\n",
       "      <th>WEEK_NUM_OVERALL</th>\n",
       "      <th>...</th>\n",
       "      <th>MONTH</th>\n",
       "      <th>MONTH_NUM_OVERALL</th>\n",
       "      <th>MONTH_NAME</th>\n",
       "      <th>MONTH_ABBREV</th>\n",
       "      <th>QUARTER</th>\n",
       "      <th>YEAR</th>\n",
       "      <th>YEARMO</th>\n",
       "      <th>FISCAL_MONTH</th>\n",
       "      <th>FISCAL_QUARTER</th>\n",
       "      <th>FISCAL_YEAR</th>\n",
       "    </tr>\n",
       "  </thead>\n",
       "  <tbody>\n",
       "    <tr>\n",
       "      <th>0</th>\n",
       "      <td>20150101</td>\n",
       "      <td>1/1/2015</td>\n",
       "      <td>4</td>\n",
       "      <td>1</td>\n",
       "      <td>1</td>\n",
       "      <td>Thursday</td>\n",
       "      <td>Thu</td>\n",
       "      <td>Weekday</td>\n",
       "      <td>1</td>\n",
       "      <td>1</td>\n",
       "      <td>...</td>\n",
       "      <td>1</td>\n",
       "      <td>1</td>\n",
       "      <td>January</td>\n",
       "      <td>Jan</td>\n",
       "      <td>1</td>\n",
       "      <td>1900</td>\n",
       "      <td>190001</td>\n",
       "      <td>7</td>\n",
       "      <td>3</td>\n",
       "      <td>1900</td>\n",
       "    </tr>\n",
       "    <tr>\n",
       "      <th>1</th>\n",
       "      <td>20150102</td>\n",
       "      <td>1/2/2015</td>\n",
       "      <td>5</td>\n",
       "      <td>2</td>\n",
       "      <td>2</td>\n",
       "      <td>Friday</td>\n",
       "      <td>Fri</td>\n",
       "      <td>Weekday</td>\n",
       "      <td>1</td>\n",
       "      <td>1</td>\n",
       "      <td>...</td>\n",
       "      <td>1</td>\n",
       "      <td>1</td>\n",
       "      <td>January</td>\n",
       "      <td>Jan</td>\n",
       "      <td>1</td>\n",
       "      <td>1900</td>\n",
       "      <td>190001</td>\n",
       "      <td>7</td>\n",
       "      <td>3</td>\n",
       "      <td>1900</td>\n",
       "    </tr>\n",
       "    <tr>\n",
       "      <th>2</th>\n",
       "      <td>20150103</td>\n",
       "      <td>1/3/2015</td>\n",
       "      <td>6</td>\n",
       "      <td>3</td>\n",
       "      <td>3</td>\n",
       "      <td>Saturday</td>\n",
       "      <td>Sat</td>\n",
       "      <td>Weekend</td>\n",
       "      <td>1</td>\n",
       "      <td>1</td>\n",
       "      <td>...</td>\n",
       "      <td>1</td>\n",
       "      <td>1</td>\n",
       "      <td>January</td>\n",
       "      <td>Jan</td>\n",
       "      <td>1</td>\n",
       "      <td>1900</td>\n",
       "      <td>190001</td>\n",
       "      <td>7</td>\n",
       "      <td>3</td>\n",
       "      <td>1900</td>\n",
       "    </tr>\n",
       "    <tr>\n",
       "      <th>3</th>\n",
       "      <td>20150104</td>\n",
       "      <td>1/4/2015</td>\n",
       "      <td>7</td>\n",
       "      <td>4</td>\n",
       "      <td>4</td>\n",
       "      <td>Sunday</td>\n",
       "      <td>Sun</td>\n",
       "      <td>Weekend</td>\n",
       "      <td>1</td>\n",
       "      <td>1</td>\n",
       "      <td>...</td>\n",
       "      <td>1</td>\n",
       "      <td>1</td>\n",
       "      <td>January</td>\n",
       "      <td>Jan</td>\n",
       "      <td>1</td>\n",
       "      <td>1900</td>\n",
       "      <td>190001</td>\n",
       "      <td>7</td>\n",
       "      <td>3</td>\n",
       "      <td>1900</td>\n",
       "    </tr>\n",
       "    <tr>\n",
       "      <th>4</th>\n",
       "      <td>20150105</td>\n",
       "      <td>1/5/2015</td>\n",
       "      <td>1</td>\n",
       "      <td>5</td>\n",
       "      <td>5</td>\n",
       "      <td>Monday</td>\n",
       "      <td>Mon</td>\n",
       "      <td>Weekday</td>\n",
       "      <td>2</td>\n",
       "      <td>2</td>\n",
       "      <td>...</td>\n",
       "      <td>1</td>\n",
       "      <td>1</td>\n",
       "      <td>January</td>\n",
       "      <td>Jan</td>\n",
       "      <td>1</td>\n",
       "      <td>1900</td>\n",
       "      <td>190001</td>\n",
       "      <td>7</td>\n",
       "      <td>3</td>\n",
       "      <td>1900</td>\n",
       "    </tr>\n",
       "  </tbody>\n",
       "</table>\n",
       "<p>5 rows × 22 columns</p>\n",
       "</div>"
      ],
      "text/plain": [
       "    DATE_SK FULL_DATE  DAY_OF_WEEK  DAY_NUM_IN_MONTH  DAY_NUM_OVERALL  \\\n",
       "0  20150101  1/1/2015            4                 1                1   \n",
       "1  20150102  1/2/2015            5                 2                2   \n",
       "2  20150103  1/3/2015            6                 3                3   \n",
       "3  20150104  1/4/2015            7                 4                4   \n",
       "4  20150105  1/5/2015            1                 5                5   \n",
       "\n",
       "   DAY_NAME DAY_ABBREV WEEKDAY_FLAG  WEEK_NUM_IN_YEAR  WEEK_NUM_OVERALL  ...  \\\n",
       "0  Thursday        Thu      Weekday                 1                 1  ...   \n",
       "1    Friday        Fri      Weekday                 1                 1  ...   \n",
       "2  Saturday        Sat      Weekend                 1                 1  ...   \n",
       "3    Sunday        Sun      Weekend                 1                 1  ...   \n",
       "4    Monday        Mon      Weekday                 2                 2  ...   \n",
       "\n",
       "  MONTH  MONTH_NUM_OVERALL  MONTH_NAME  MONTH_ABBREV QUARTER  YEAR  YEARMO  \\\n",
       "0     1                  1     January           Jan       1  1900  190001   \n",
       "1     1                  1     January           Jan       1  1900  190001   \n",
       "2     1                  1     January           Jan       1  1900  190001   \n",
       "3     1                  1     January           Jan       1  1900  190001   \n",
       "4     1                  1     January           Jan       1  1900  190001   \n",
       "\n",
       "   FISCAL_MONTH  FISCAL_QUARTER  FISCAL_YEAR  \n",
       "0             7               3         1900  \n",
       "1             7               3         1900  \n",
       "2             7               3         1900  \n",
       "3             7               3         1900  \n",
       "4             7               3         1900  \n",
       "\n",
       "[5 rows x 22 columns]"
      ]
     },
     "execution_count": 17,
     "metadata": {},
     "output_type": "execute_result"
    }
   ],
   "source": [
    "df_dates_dim = df_dates.rename(columns=lambda x: x.replace(' ', '_'))\n",
    "\n",
    "df_dates_dim.drop(['MONTH_END_FLAG', 'SAME_DAY_YEAR_AGO'], axis=1, inplace=True)\n",
    "\n",
    "df_dates_dim.head(5)"
   ]
  },
  {
   "cell_type": "code",
   "execution_count": 18,
   "metadata": {},
   "outputs": [
    {
     "data": {
      "text/html": [
       "<div>\n",
       "<style scoped>\n",
       "    .dataframe tbody tr th:only-of-type {\n",
       "        vertical-align: middle;\n",
       "    }\n",
       "\n",
       "    .dataframe tbody tr th {\n",
       "        vertical-align: top;\n",
       "    }\n",
       "\n",
       "    .dataframe thead th {\n",
       "        text-align: right;\n",
       "    }\n",
       "</style>\n",
       "<table border=\"1\" class=\"dataframe\">\n",
       "  <thead>\n",
       "    <tr style=\"text-align: right;\">\n",
       "      <th></th>\n",
       "      <th>DATE_SK</th>\n",
       "      <th>FULL_DATE</th>\n",
       "      <th>DAY_OF_WEEK</th>\n",
       "      <th>DAY_NUM_IN_MONTH</th>\n",
       "      <th>DAY_NUM_OVERALL</th>\n",
       "      <th>DAY_NAME</th>\n",
       "      <th>DAY_ABBREV</th>\n",
       "      <th>WEEKDAY_FLAG</th>\n",
       "      <th>WEEK_NUM_IN_YEAR</th>\n",
       "      <th>WEEK_NUM_OVERALL</th>\n",
       "      <th>...</th>\n",
       "      <th>MONTH</th>\n",
       "      <th>MONTH_NUM_OVERALL</th>\n",
       "      <th>MONTH_NAME</th>\n",
       "      <th>MONTH_ABBREV</th>\n",
       "      <th>QUARTER</th>\n",
       "      <th>YEAR</th>\n",
       "      <th>YEARMO</th>\n",
       "      <th>FISCAL_MONTH</th>\n",
       "      <th>FISCAL_QUARTER</th>\n",
       "      <th>FISCAL_YEAR</th>\n",
       "    </tr>\n",
       "  </thead>\n",
       "  <tbody>\n",
       "    <tr>\n",
       "      <th>0</th>\n",
       "      <td>20150101</td>\n",
       "      <td>2015-01-01</td>\n",
       "      <td>4</td>\n",
       "      <td>1</td>\n",
       "      <td>1</td>\n",
       "      <td>Thursday</td>\n",
       "      <td>Thu</td>\n",
       "      <td>Weekday</td>\n",
       "      <td>1</td>\n",
       "      <td>1</td>\n",
       "      <td>...</td>\n",
       "      <td>1</td>\n",
       "      <td>1</td>\n",
       "      <td>January</td>\n",
       "      <td>Jan</td>\n",
       "      <td>1</td>\n",
       "      <td>1900</td>\n",
       "      <td>190001</td>\n",
       "      <td>7</td>\n",
       "      <td>3</td>\n",
       "      <td>1900</td>\n",
       "    </tr>\n",
       "    <tr>\n",
       "      <th>1</th>\n",
       "      <td>20150102</td>\n",
       "      <td>2015-01-02</td>\n",
       "      <td>5</td>\n",
       "      <td>2</td>\n",
       "      <td>2</td>\n",
       "      <td>Friday</td>\n",
       "      <td>Fri</td>\n",
       "      <td>Weekday</td>\n",
       "      <td>1</td>\n",
       "      <td>1</td>\n",
       "      <td>...</td>\n",
       "      <td>1</td>\n",
       "      <td>1</td>\n",
       "      <td>January</td>\n",
       "      <td>Jan</td>\n",
       "      <td>1</td>\n",
       "      <td>1900</td>\n",
       "      <td>190001</td>\n",
       "      <td>7</td>\n",
       "      <td>3</td>\n",
       "      <td>1900</td>\n",
       "    </tr>\n",
       "    <tr>\n",
       "      <th>2</th>\n",
       "      <td>20150103</td>\n",
       "      <td>2015-01-03</td>\n",
       "      <td>6</td>\n",
       "      <td>3</td>\n",
       "      <td>3</td>\n",
       "      <td>Saturday</td>\n",
       "      <td>Sat</td>\n",
       "      <td>Weekend</td>\n",
       "      <td>1</td>\n",
       "      <td>1</td>\n",
       "      <td>...</td>\n",
       "      <td>1</td>\n",
       "      <td>1</td>\n",
       "      <td>January</td>\n",
       "      <td>Jan</td>\n",
       "      <td>1</td>\n",
       "      <td>1900</td>\n",
       "      <td>190001</td>\n",
       "      <td>7</td>\n",
       "      <td>3</td>\n",
       "      <td>1900</td>\n",
       "    </tr>\n",
       "    <tr>\n",
       "      <th>3</th>\n",
       "      <td>20150104</td>\n",
       "      <td>2015-01-04</td>\n",
       "      <td>7</td>\n",
       "      <td>4</td>\n",
       "      <td>4</td>\n",
       "      <td>Sunday</td>\n",
       "      <td>Sun</td>\n",
       "      <td>Weekend</td>\n",
       "      <td>1</td>\n",
       "      <td>1</td>\n",
       "      <td>...</td>\n",
       "      <td>1</td>\n",
       "      <td>1</td>\n",
       "      <td>January</td>\n",
       "      <td>Jan</td>\n",
       "      <td>1</td>\n",
       "      <td>1900</td>\n",
       "      <td>190001</td>\n",
       "      <td>7</td>\n",
       "      <td>3</td>\n",
       "      <td>1900</td>\n",
       "    </tr>\n",
       "    <tr>\n",
       "      <th>4</th>\n",
       "      <td>20150105</td>\n",
       "      <td>2015-01-05</td>\n",
       "      <td>1</td>\n",
       "      <td>5</td>\n",
       "      <td>5</td>\n",
       "      <td>Monday</td>\n",
       "      <td>Mon</td>\n",
       "      <td>Weekday</td>\n",
       "      <td>2</td>\n",
       "      <td>2</td>\n",
       "      <td>...</td>\n",
       "      <td>1</td>\n",
       "      <td>1</td>\n",
       "      <td>January</td>\n",
       "      <td>Jan</td>\n",
       "      <td>1</td>\n",
       "      <td>1900</td>\n",
       "      <td>190001</td>\n",
       "      <td>7</td>\n",
       "      <td>3</td>\n",
       "      <td>1900</td>\n",
       "    </tr>\n",
       "  </tbody>\n",
       "</table>\n",
       "<p>5 rows × 22 columns</p>\n",
       "</div>"
      ],
      "text/plain": [
       "    DATE_SK  FULL_DATE  DAY_OF_WEEK  DAY_NUM_IN_MONTH  DAY_NUM_OVERALL  \\\n",
       "0  20150101 2015-01-01            4                 1                1   \n",
       "1  20150102 2015-01-02            5                 2                2   \n",
       "2  20150103 2015-01-03            6                 3                3   \n",
       "3  20150104 2015-01-04            7                 4                4   \n",
       "4  20150105 2015-01-05            1                 5                5   \n",
       "\n",
       "   DAY_NAME DAY_ABBREV WEEKDAY_FLAG  WEEK_NUM_IN_YEAR  WEEK_NUM_OVERALL  ...  \\\n",
       "0  Thursday        Thu      Weekday                 1                 1  ...   \n",
       "1    Friday        Fri      Weekday                 1                 1  ...   \n",
       "2  Saturday        Sat      Weekend                 1                 1  ...   \n",
       "3    Sunday        Sun      Weekend                 1                 1  ...   \n",
       "4    Monday        Mon      Weekday                 2                 2  ...   \n",
       "\n",
       "  MONTH  MONTH_NUM_OVERALL  MONTH_NAME  MONTH_ABBREV QUARTER  YEAR  YEARMO  \\\n",
       "0     1                  1     January           Jan       1  1900  190001   \n",
       "1     1                  1     January           Jan       1  1900  190001   \n",
       "2     1                  1     January           Jan       1  1900  190001   \n",
       "3     1                  1     January           Jan       1  1900  190001   \n",
       "4     1                  1     January           Jan       1  1900  190001   \n",
       "\n",
       "   FISCAL_MONTH  FISCAL_QUARTER  FISCAL_YEAR  \n",
       "0             7               3         1900  \n",
       "1             7               3         1900  \n",
       "2             7               3         1900  \n",
       "3             7               3         1900  \n",
       "4             7               3         1900  \n",
       "\n",
       "[5 rows x 22 columns]"
      ]
     },
     "execution_count": 18,
     "metadata": {},
     "output_type": "execute_result"
    }
   ],
   "source": [
    "df_dates_dim['FULL_DATE'] = pd.to_datetime(df_dates_dim['FULL_DATE'])\n",
    "\n",
    "df_dates_dim.head()"
   ]
  },
  {
   "attachments": {},
   "cell_type": "markdown",
   "metadata": {},
   "source": [
    "## SECCION 4 - CARGA DE DATOS DIM TABLES A DW"
   ]
  },
  {
   "attachments": {},
   "cell_type": "markdown",
   "metadata": {},
   "source": [
    "### CARGAMOS DATOS DATOS DE LAS DIM TABLES"
   ]
  },
  {
   "cell_type": "code",
   "execution_count": 19,
   "metadata": {},
   "outputs": [],
   "source": [
    "mysql_driver = f\"\"\"mysql+pymysql://{config.get('RDS_MYSQL', 'DB_USER')}:{config.get('RDS_MYSQL', 'DB_PASSWORD')}@{RDS_DW_HOST}:{config.get('RDS_MYSQL', 'DB_PORT')}/{config.get('RDS_MYSQL', 'DB_NAME')}\"\"\"  "
   ]
  },
  {
   "cell_type": "code",
   "execution_count": 20,
   "metadata": {},
   "outputs": [
    {
     "data": {
      "text/plain": [
       "3287"
      ]
     },
     "execution_count": 20,
     "metadata": {},
     "output_type": "execute_result"
    }
   ],
   "source": [
    "df_customer_dim.to_sql('CUSTOMER_DIM', mysql_driver, index=False, if_exists='append')\n",
    "\n",
    "df_location_dim.to_sql('LOCATION_DIM', mysql_driver, index=False, if_exists='append')\n",
    "\n",
    "df_product_dim.to_sql('PRODUCT_DIM', mysql_driver, index=False, if_exists='append')\n",
    "\n",
    "df_region_dim.to_sql('REGION_DIM', mysql_driver, index=False, if_exists='append')\n",
    "\n",
    "df_shipmode_dim.to_sql('SHIPMODE_DIM', mysql_driver, index=False, if_exists='append')\n",
    "\n",
    "df_dates_dim.to_sql('DATE_DIM', mysql_driver, index=False, if_exists='append')"
   ]
  },
  {
   "attachments": {},
   "cell_type": "markdown",
   "metadata": {},
   "source": [
    "## SECCION 5 - CARGA DE DATOS A FACT TABLE"
   ]
  },
  {
   "attachments": {},
   "cell_type": "markdown",
   "metadata": {},
   "source": [
    "### EXTRAEMOS LAS DIMENSIONES"
   ]
  },
  {
   "cell_type": "code",
   "execution_count": 21,
   "metadata": {},
   "outputs": [],
   "source": [
    "sql_query = '''SELECT * FROM CUSTOMER_DIM;'''\n",
    "dim_customer = pd.read_sql(sql_query, mysql_driver)\n",
    "\n",
    "sql_query = '''SELECT * FROM LOCATION_DIM;'''\n",
    "dim_location = pd.read_sql(sql_query, mysql_driver)\n",
    "\n",
    "sql_query = '''SELECT * FROM PRODUCT_DIM;'''\n",
    "dim_product = pd.read_sql(sql_query, mysql_driver)\n",
    "\n",
    "sql_query = '''SELECT * FROM REGION_DIM;'''\n",
    "dim_region = pd.read_sql(sql_query, mysql_driver)\n",
    "\n",
    "sql_query = '''SELECT * FROM SHIPMODE_DIM;'''\n",
    "dim_shipmode = pd.read_sql(sql_query, mysql_driver)"
   ]
  },
  {
   "attachments": {},
   "cell_type": "markdown",
   "metadata": {},
   "source": [
    "### LIMPIEZA DE DATOS Y MERGE"
   ]
  },
  {
   "cell_type": "code",
   "execution_count": 22,
   "metadata": {},
   "outputs": [],
   "source": [
    "df_orders = df_orders_all.drop(['Row ID', 'Customer Name', 'Segment', 'Category', 'Sub-Category', 'Product Name', 'File Paths'], axis=1)\n",
    "df_orders.columns = [\"ORDER_DATE\", \"REGION_NAME\", \"SHIP_DATE\", \"ORDER_ID\", \"SHIPMODE_NAME\", \"CUSTOMER_ID\", \"COUNTRY\", \"CITY\", \"STATE\", \"POSTAL_CODE\", \"PRODUCT_ID\", \"SALES\", \"QUANTITY\", \"PROFIT\", \"DISCOUNT\"]\n",
    "\n",
    "## CAMBIAMOS EL FORMATO DE LA FECHA Y LO CONVERTIMOS A ENTERO\n",
    "df_orders['ORDER_DATE'] = pd.to_datetime(df_orders['ORDER_DATE'])\n",
    "df_orders['ORDER_DATE'] = df_orders['ORDER_DATE'].dt.strftime(\"%Y%m%d\")\n",
    "df_orders['ORDER_DATE'] = df_orders['ORDER_DATE'].astype(\"Int64\")\n",
    "\n",
    "df_orders['SHIP_DATE'] = pd.to_datetime(df_orders['SHIP_DATE'])\n",
    "df_orders['SHIP_DATE'] = df_orders['SHIP_DATE'].dt.strftime(\"%Y%m%d\")\n",
    "df_orders['SHIP_DATE'] = df_orders['SHIP_DATE'].astype(\"Int64\")\n",
    "\n",
    "df_orders['POSTAL_CODE'] = df_orders['POSTAL_CODE'].fillna(-1)\n",
    "df_orders['POSTAL_CODE'] = df_orders['POSTAL_CODE'].astype(\"Int64\")\n",
    "df_orders['POSTAL_CODE'] = df_orders['POSTAL_CODE'].astype(\"str\")\n",
    "\n",
    "df_merge = df_orders.merge(dim_customer, how='inner', on='CUSTOMER_ID')\n",
    "df_merge = df_merge.merge(dim_location, how='inner', on=['COUNTRY', 'CITY', 'STATE', 'POSTAL_CODE'])\n",
    "df_merge = df_merge.merge(dim_product, how='inner', on='PRODUCT_ID')\n",
    "df_merge = df_merge.merge(dim_region, how='inner', on='REGION_NAME')\n",
    "df_merge = df_merge.merge(dim_shipmode, how='inner', on='SHIPMODE_NAME')\n"
   ]
  },
  {
   "attachments": {},
   "cell_type": "markdown",
   "metadata": {},
   "source": [
    "### INSERTAMOS DATOS"
   ]
  },
  {
   "cell_type": "code",
   "execution_count": 23,
   "metadata": {},
   "outputs": [
    {
     "data": {
      "text/plain": [
       "16302"
      ]
     },
     "execution_count": 23,
     "metadata": {},
     "output_type": "execute_result"
    }
   ],
   "source": [
    "df_fact_table = df_merge[[\"ORDER_DATE\", \"REGION_SK\", \"SHIP_DATE\", \"ORDER_ID\", \"SHIPMODE_SK\", \"CUSTOMER_SK\", \"LOCATION_SK\", \"PRODUCT_SK\", \"SALES\", \"QUANTITY\", \"PROFIT\", \"DISCOUNT\"]]\n",
    "\n",
    "df_fact_table.to_sql('ORDERS_FACT', mysql_driver, index=False, if_exists='append')"
   ]
  },
  {
   "attachments": {},
   "cell_type": "markdown",
   "metadata": {},
   "source": [
    "## **ANALITICA**"
   ]
  },
  {
   "attachments": {},
   "cell_type": "markdown",
   "metadata": {},
   "source": [
    "## SECCION 6 - PREGUNTAS\n",
    "\n",
    "Para el análisis de datos, se establecieron preguntas del negocio que fueron respondidas a través de los siguientes análisis (correspondientes a cada pregunta):"
   ]
  },
  {
   "cell_type": "code",
   "execution_count": 109,
   "metadata": {},
   "outputs": [],
   "source": [
    "sql_query = '''SELECT * FROM ORDERS_FACT;'''\n",
    "fact_orders = pd.read_sql(sql_query, mysql_driver)\n",
    "\n",
    "sql_query = '''SELECT * FROM DATE_DIM;'''\n",
    "dim_date = pd.read_sql(sql_query, mysql_driver)"
   ]
  },
  {
   "cell_type": "code",
   "execution_count": 110,
   "metadata": {},
   "outputs": [
    {
     "data": {
      "text/html": [
       "<div>\n",
       "<style scoped>\n",
       "    .dataframe tbody tr th:only-of-type {\n",
       "        vertical-align: middle;\n",
       "    }\n",
       "\n",
       "    .dataframe tbody tr th {\n",
       "        vertical-align: top;\n",
       "    }\n",
       "\n",
       "    .dataframe thead th {\n",
       "        text-align: right;\n",
       "    }\n",
       "</style>\n",
       "<table border=\"1\" class=\"dataframe\">\n",
       "  <thead>\n",
       "    <tr style=\"text-align: right;\">\n",
       "      <th></th>\n",
       "      <th>ORDER_DATE</th>\n",
       "      <th>SHIP_DATE</th>\n",
       "      <th>SALES</th>\n",
       "      <th>QUANTITY</th>\n",
       "      <th>PROFIT</th>\n",
       "      <th>DISCOUNT</th>\n",
       "      <th>ORDER_ID</th>\n",
       "      <th>CUSTOMER_ID</th>\n",
       "      <th>CUSTOMER_NAME</th>\n",
       "      <th>SEGMENT</th>\n",
       "      <th>...</th>\n",
       "      <th>MONTH</th>\n",
       "      <th>MONTH_NUM_OVERALL</th>\n",
       "      <th>MONTH_NAME</th>\n",
       "      <th>MONTH_ABBREV</th>\n",
       "      <th>QUARTER</th>\n",
       "      <th>YEAR</th>\n",
       "      <th>YEARMO</th>\n",
       "      <th>FISCAL_MONTH</th>\n",
       "      <th>FISCAL_QUARTER</th>\n",
       "      <th>FISCAL_YEAR</th>\n",
       "    </tr>\n",
       "  </thead>\n",
       "  <tbody>\n",
       "    <tr>\n",
       "      <th>0</th>\n",
       "      <td>20161122</td>\n",
       "      <td>20161126</td>\n",
       "      <td>68.81</td>\n",
       "      <td>5.0</td>\n",
       "      <td>-123.86</td>\n",
       "      <td>0.8</td>\n",
       "      <td>US-2016-118983</td>\n",
       "      <td>HP-14815</td>\n",
       "      <td>Harold Pawlan</td>\n",
       "      <td>Home Office</td>\n",
       "      <td>...</td>\n",
       "      <td>11</td>\n",
       "      <td>23</td>\n",
       "      <td>November</td>\n",
       "      <td>Nov</td>\n",
       "      <td>4</td>\n",
       "      <td>2016</td>\n",
       "      <td>190011</td>\n",
       "      <td>5</td>\n",
       "      <td>2</td>\n",
       "      <td>1901</td>\n",
       "    </tr>\n",
       "    <tr>\n",
       "      <th>1</th>\n",
       "      <td>20161122</td>\n",
       "      <td>20161126</td>\n",
       "      <td>2.54</td>\n",
       "      <td>3.0</td>\n",
       "      <td>-3.82</td>\n",
       "      <td>0.8</td>\n",
       "      <td>US-2016-118983</td>\n",
       "      <td>HP-14815</td>\n",
       "      <td>Harold Pawlan</td>\n",
       "      <td>Home Office</td>\n",
       "      <td>...</td>\n",
       "      <td>11</td>\n",
       "      <td>23</td>\n",
       "      <td>November</td>\n",
       "      <td>Nov</td>\n",
       "      <td>4</td>\n",
       "      <td>2016</td>\n",
       "      <td>190011</td>\n",
       "      <td>5</td>\n",
       "      <td>2</td>\n",
       "      <td>1901</td>\n",
       "    </tr>\n",
       "    <tr>\n",
       "      <th>2</th>\n",
       "      <td>20161122</td>\n",
       "      <td>20161127</td>\n",
       "      <td>206.96</td>\n",
       "      <td>2.0</td>\n",
       "      <td>-32.52</td>\n",
       "      <td>0.3</td>\n",
       "      <td>CA-2016-139094</td>\n",
       "      <td>MO-17800</td>\n",
       "      <td>Meg O'Connel</td>\n",
       "      <td>Home Office</td>\n",
       "      <td>...</td>\n",
       "      <td>11</td>\n",
       "      <td>23</td>\n",
       "      <td>November</td>\n",
       "      <td>Nov</td>\n",
       "      <td>4</td>\n",
       "      <td>2016</td>\n",
       "      <td>190011</td>\n",
       "      <td>5</td>\n",
       "      <td>2</td>\n",
       "      <td>1901</td>\n",
       "    </tr>\n",
       "    <tr>\n",
       "      <th>3</th>\n",
       "      <td>20161122</td>\n",
       "      <td>20161126</td>\n",
       "      <td>27.17</td>\n",
       "      <td>4.0</td>\n",
       "      <td>-1.36</td>\n",
       "      <td>0.2</td>\n",
       "      <td>US-2016-165449</td>\n",
       "      <td>AP-10720</td>\n",
       "      <td>Anne Pryor</td>\n",
       "      <td>Home Office</td>\n",
       "      <td>...</td>\n",
       "      <td>11</td>\n",
       "      <td>23</td>\n",
       "      <td>November</td>\n",
       "      <td>Nov</td>\n",
       "      <td>4</td>\n",
       "      <td>2016</td>\n",
       "      <td>190011</td>\n",
       "      <td>5</td>\n",
       "      <td>2</td>\n",
       "      <td>1901</td>\n",
       "    </tr>\n",
       "    <tr>\n",
       "      <th>4</th>\n",
       "      <td>20161122</td>\n",
       "      <td>20161126</td>\n",
       "      <td>14.94</td>\n",
       "      <td>3.0</td>\n",
       "      <td>7.02</td>\n",
       "      <td>0.0</td>\n",
       "      <td>CA-2016-123505</td>\n",
       "      <td>AR-10540</td>\n",
       "      <td>Andy Reiter</td>\n",
       "      <td>Consumer</td>\n",
       "      <td>...</td>\n",
       "      <td>11</td>\n",
       "      <td>23</td>\n",
       "      <td>November</td>\n",
       "      <td>Nov</td>\n",
       "      <td>4</td>\n",
       "      <td>2016</td>\n",
       "      <td>190011</td>\n",
       "      <td>5</td>\n",
       "      <td>2</td>\n",
       "      <td>1901</td>\n",
       "    </tr>\n",
       "  </tbody>\n",
       "</table>\n",
       "<p>5 rows × 41 columns</p>\n",
       "</div>"
      ],
      "text/plain": [
       "   ORDER_DATE  SHIP_DATE   SALES  QUANTITY  PROFIT  DISCOUNT        ORDER_ID  \\\n",
       "0    20161122   20161126   68.81       5.0 -123.86       0.8  US-2016-118983   \n",
       "1    20161122   20161126    2.54       3.0   -3.82       0.8  US-2016-118983   \n",
       "2    20161122   20161127  206.96       2.0  -32.52       0.3  CA-2016-139094   \n",
       "3    20161122   20161126   27.17       4.0   -1.36       0.2  US-2016-165449   \n",
       "4    20161122   20161126   14.94       3.0    7.02       0.0  CA-2016-123505   \n",
       "\n",
       "  CUSTOMER_ID  CUSTOMER_NAME      SEGMENT  ... MONTH MONTH_NUM_OVERALL  \\\n",
       "0    HP-14815  Harold Pawlan  Home Office  ...    11                23   \n",
       "1    HP-14815  Harold Pawlan  Home Office  ...    11                23   \n",
       "2    MO-17800   Meg O'Connel  Home Office  ...    11                23   \n",
       "3    AP-10720     Anne Pryor  Home Office  ...    11                23   \n",
       "4    AR-10540    Andy Reiter     Consumer  ...    11                23   \n",
       "\n",
       "  MONTH_NAME MONTH_ABBREV QUARTER  YEAR  YEARMO FISCAL_MONTH FISCAL_QUARTER  \\\n",
       "0   November          Nov       4  2016  190011            5              2   \n",
       "1   November          Nov       4  2016  190011            5              2   \n",
       "2   November          Nov       4  2016  190011            5              2   \n",
       "3   November          Nov       4  2016  190011            5              2   \n",
       "4   November          Nov       4  2016  190011            5              2   \n",
       "\n",
       "  FISCAL_YEAR  \n",
       "0        1901  \n",
       "1        1901  \n",
       "2        1901  \n",
       "3        1901  \n",
       "4        1901  \n",
       "\n",
       "[5 rows x 41 columns]"
      ]
     },
     "execution_count": 110,
     "metadata": {},
     "output_type": "execute_result"
    }
   ],
   "source": [
    "df_merge_dw = fact_orders.merge(dim_customer, how='inner', on='CUSTOMER_SK')\n",
    "df_merge_dw = df_merge_dw.merge(dim_location, how='inner', on='LOCATION_SK')\n",
    "df_merge_dw = df_merge_dw.merge(dim_product, how='inner', on='PRODUCT_SK')\n",
    "df_merge_dw = df_merge_dw.merge(dim_region, how='inner', on='REGION_SK')\n",
    "df_merge_dw = df_merge_dw.merge(dim_shipmode, how='inner', on='SHIPMODE_SK')\n",
    "df_merge_dw = df_merge_dw.merge(dim_date, how='inner', left_on='ORDER_DATE', right_on='DATE_SK')\n",
    "\n",
    "df_merge_dw.drop(['PRODUCT_SK', 'LOCATION_SK', 'CUSTOMER_SK','REGION_SK', 'SHIPMODE_SK', 'DATE_SK'], axis=1, inplace=True)\n",
    "\n",
    "df_merge_dw.head(5)"
   ]
  },
  {
   "attachments": {},
   "cell_type": "markdown",
   "metadata": {},
   "source": [
    "#### 1 . ¿Cualés son los productos mas vendidos en la región Central?"
   ]
  },
  {
   "cell_type": "code",
   "execution_count": 111,
   "metadata": {},
   "outputs": [
    {
     "data": {
      "image/png": "[encoded data removed]",
      "text/plain": [
       "<Figure size 640x480 with 1 Axes>"
      ]
     },
     "metadata": {},
     "output_type": "display_data"
    }
   ],
   "source": [
    "import matplotlib.pyplot as plt\n",
    "\n",
    "ventas_central = df_merge_dw[df_merge_dw['REGION_NAME'] == 'Central']\n",
    "ventas_producto = ventas_central.groupby('PRODUCT_NAME')['SALES'].sum()\n",
    "\n",
    "ventas_producto_top = ventas_producto.nlargest(5)\n",
    "\n",
    "ventas_producto_top.plot(kind='pie', autopct='%1.1f%%')\n",
    "plt.title('Productos más vendidos en la región Central')\n",
    "plt.xlabel('Producto')\n",
    "plt.ylabel('Venta')\n",
    "plt.show()"
   ]
  },
  {
   "attachments": {},
   "cell_type": "markdown",
   "metadata": {},
   "source": [
    "#### 2. ¿Cuales son los productos menos vendidos por en la región SUR?"
   ]
  },
  {
   "cell_type": "code",
   "execution_count": 112,
   "metadata": {},
   "outputs": [
    {
     "data": {
      "image/png": "[encoded data removed]",
      "text/plain": [
       "<Figure size 640x480 with 1 Axes>"
      ]
     },
     "metadata": {},
     "output_type": "display_data"
    }
   ],
   "source": [
    "ventas_central = df_merge_dw[df_merge_dw['REGION_NAME'] == 'South']\n",
    "ventas_producto = ventas_central.groupby('PRODUCT_NAME')['SALES'].sum()\n",
    "\n",
    "ventas_producto_top = ventas_producto.nsmallest(5)\n",
    "\n",
    "ventas_producto_top.plot(kind='pie', autopct='%1.1f%%')\n",
    "plt.title('Productos más vendidos en la región Central')\n",
    "plt.xlabel('Producto')\n",
    "plt.ylabel('Venta')\n",
    "plt.show()"
   ]
  },
  {
   "attachments": {},
   "cell_type": "markdown",
   "metadata": {},
   "source": [
    "#### 3. ¿Cuáles son los clientes con mayor compra?"
   ]
  },
  {
   "cell_type": "code",
   "execution_count": 113,
   "metadata": {},
   "outputs": [
    {
     "data": {
      "image/png": "[encoded data removed]",
      "text/plain": [
       "<Figure size 1500x600 with 1 Axes>"
      ]
     },
     "metadata": {},
     "output_type": "display_data"
    }
   ],
   "source": [
    "ventas_clientes = df_merge_dw.groupby('CUSTOMER_NAME')['SALES'].sum()\n",
    "\n",
    "top_clientes = ventas_clientes.nlargest(10)\n",
    "\n",
    "plt.figure(figsize=(15, 6))\n",
    "top_clientes.plot(kind='bar')\n",
    "plt.title('Clientes con mayor compra')\n",
    "plt.xlabel('Cliente')\n",
    "plt.ylabel('Venta')\n",
    "plt.show()"
   ]
  },
  {
   "attachments": {},
   "cell_type": "markdown",
   "metadata": {},
   "source": [
    "#### 4. ¿Ganancias totales anuales por Región?"
   ]
  },
  {
   "cell_type": "code",
   "execution_count": 133,
   "metadata": {},
   "outputs": [
    {
     "data": {
      "image/png": "[encoded data removed]",
      "text/plain": [
       "<Figure size 640x480 with 1 Axes>"
      ]
     },
     "metadata": {},
     "output_type": "display_data"
    },
    {
     "data": {
      "image/png": "[encoded data removed]",
      "text/plain": [
       "<Figure size 640x480 with 1 Axes>"
      ]
     },
     "metadata": {},
     "output_type": "display_data"
    },
    {
     "data": {
      "image/png": "[encoded data removed]",
      "text/plain": [
       "<Figure size 640x480 with 1 Axes>"
      ]
     },
     "metadata": {},
     "output_type": "display_data"
    },
    {
     "data": {
      "image/png": "[encoded data removed]",
      "text/plain": [
       "<Figure size 640x480 with 1 Axes>"
      ]
     },
     "metadata": {},
     "output_type": "display_data"
    }
   ],
   "source": [
    "\n",
    "regiones_array = df_merge_dw['REGION_NAME'].unique()\n",
    "\n",
    "for i in regiones_array:\n",
    "    ventas_promedio_region = df_merge_dw[df_merge_dw['REGION_NAME'] == i]\n",
    "    ventas_promedio_per_year = ventas_promedio_region.groupby(['YEAR'])['PROFIT'].sum()\n",
    "    ventas_promedio_per_year.plot(kind='bar')\n",
    "    plt.title(f\"Ganancia anual de la region: {i}\")\n",
    "    plt.xlabel('Año')\n",
    "    plt.ylabel('Ganancia')\n",
    "    plt.show()"
   ]
  },
  {
   "attachments": {},
   "cell_type": "markdown",
   "metadata": {},
   "source": [
    "#### 5. ¿Ganancia total y descuentos por region?"
   ]
  },
  {
   "cell_type": "code",
   "execution_count": 138,
   "metadata": {},
   "outputs": [
    {
     "data": {
      "image/png": "[encoded data removed]",
      "text/plain": [
       "<Figure size 1000x600 with 1 Axes>"
      ]
     },
     "metadata": {},
     "output_type": "display_data"
    }
   ],
   "source": [
    "fig, ax = plt.subplots(figsize=(10, 6))\n",
    "ax.bar(df_merge_dw['REGION_NAME'], df_merge_dw['SALES'], color='blue', label='Ventas')\n",
    "ax.bar(df_merge_dw['REGION_NAME'], df_merge_dw['DISCOUNT'], color='orange', label='Descuentos')\n",
    "ax.bar(df_merge_dw['REGION_NAME'], df_merge_dw['PROFIT'], color='green', label='Ganancias')\n",
    "\n",
    "ax.set_title('Ventas, descuentos y ganancias por Region')\n",
    "ax.set_xlabel('Regiones')\n",
    "ax.set_ylabel('Monto')\n",
    "ax.legend()\n",
    "\n",
    "plt.show()"
   ]
  }
 ],
 "metadata": {
  "kernelspec": {
   "display_name": "base",
   "language": "python",
   "name": "python3"
  },
  "language_info": {
   "codemirror_mode": {
    "name": "ipython",
    "version": 3
   },
   "file_extension": ".py",
   "mimetype": "text/x-python",
   "name": "python",
   "nbconvert_exporter": "python",
   "pygments_lexer": "ipython3",
   "version": "3.9.13"
  },
  "orig_nbformat": 4
 },
 "nbformat": 4,
 "nbformat_minor": 2
}
